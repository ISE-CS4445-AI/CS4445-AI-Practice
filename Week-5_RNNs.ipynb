{
 "cells": [
  {
   "cell_type": "markdown",
   "metadata": {},
   "source": [
    "<a href=\"https://colab.research.google.com/github/ISE-CS4445-AI/CS4445-AI-Practice/Week-5_RNNs.ipynb\" target=\"_parent\"><img src=\"https://colab.research.google.com/assets/colab-badge.svg\" alt=\"Open In Colab\"/></a>\n",
    "\n",
    "# Week 5 Exercise Notebook: \n",
    "## Practical RNN Implementation on IMDB Sentiment Analysis with PyTorch\n",
    "\n",
    "In this notebook, we will:\n",
    "- Load the IMDB dataset (movie reviews labeled as positive/negative).\n",
    "- Preprocess the text data (tokenization, vocabulary building, numericalization, and padding).\n",
    "- Build a simple RNN (using an LSTM cell) for sentiment classification.\n",
    "- Train the model on a small subset (for demonstration) and evaluate predictions.\n",
    "- Use the trained model to make a fun prediction on a custom review.\n",
    "\n",
    "> **Note:** Training on the full IMDB dataset will take time. For demonstration, we are going to use a subset of randomly sampled 1000 datapoints."
   ]
  },
  {
   "cell_type": "markdown",
   "metadata": {},
   "source": [
    "---\n",
    "## Importing Libraries"
   ]
  },
  {
   "cell_type": "code",
   "execution_count": null,
   "metadata": {},
   "outputs": [],
   "source": [
    "import torch\n",
    "import torch.nn as nn\n",
    "import torch.optim as optim\n",
    "from torch.utils.data import DataLoader, Dataset\n",
    "from torch.nn.utils.rnn import pad_sequence\n",
    "from torchtext.datasets import IMDB\n",
    "from torchtext.data.utils import get_tokenizer\n",
    "from collections import Counter\n",
    "from torchtext.vocab import Vocab\n",
    "import random\n",
    "\n",
    "# Set random seeds for reproducibility\n",
    "torch.manual_seed(42)\n",
    "random.seed(42)"
   ]
  },
  {
   "cell_type": "markdown",
   "metadata": {},
   "source": [
    "## Loading and exploring the IMDB dataset"
   ]
  },
  {
   "cell_type": "code",
   "execution_count": null,
   "metadata": {},
   "outputs": [],
   "source": [
    "# Download the IMDB dataset using torchtext.\n",
    "# Each example is a tuple: (label, text)\n",
    "train_iter = list(IMDB(split='train'))\n",
    "test_iter = list(IMDB(split='test'))\n",
    "\n",
    "# For quick demonstration, we will use a small subset of the training data.\n",
    "# You can adjust the subset size if needed.\n",
    "subset_size = 1000\n",
    "train_data = random.sample(train_iter, subset_size)\n",
    "\n",
    "print(f\"Total training examples (subset): {len(train_data)}\")\n",
    "print(\"Example:\", train_data[0])"
   ]
  }
 ],
 "metadata": {
  "language_info": {
   "name": "python"
  }
 },
 "nbformat": 4,
 "nbformat_minor": 2
}
