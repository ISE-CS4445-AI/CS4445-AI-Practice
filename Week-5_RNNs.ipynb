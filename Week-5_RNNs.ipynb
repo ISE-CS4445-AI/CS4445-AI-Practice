{
  "cells": [
    {
      "cell_type": "markdown",
      "metadata": {
        "id": "Nyk7nQB_RKeL"
      },
      "source": [
        "<a href=\"https://colab.research.google.com/github/ISE-CS4445-AI/CS4445-AI-Practice/blob/main/Week-5_RNNs.ipynb\" target=\"_parent\"><img src=\"https://colab.research.google.com/assets/colab-badge.svg\" alt=\"Open In Colab\"/></a>\n",
        "\n",
        "# Week 5 Exercise Notebook:\n",
        "## Practical RNN Implementation on IMDB Sentiment Analysis with PyTorch\n",
        "\n",
        "In this notebook, we will:\n",
        "- Load the IMDB dataset (movie reviews labeled as positive/negative).\n",
        "- Preprocess the text data (tokenization, vocabulary building, numericalization, and padding).\n",
        "- Build a simple RNN (using an LSTM cell) for sentiment classification.\n",
        "- Train the model on a small subset (for demonstration) and evaluate predictions.\n",
        "- Use the trained model to make a fun prediction on a custom review.\n",
        "\n",
        "> **Note:** Training on the full IMDB dataset will take time. For demonstration, we are going to use a subset of randomly sampled 1000 datapoints."
      ]
    },
    {
      "cell_type": "markdown",
      "metadata": {
        "id": "PsLjnO2TRKeV"
      },
      "source": [
        "---\n",
        "## Initial Setup & Importing Libraries"
      ]
    },
    {
      "cell_type": "code",
      "source": [
        "!pip uninstall -y torchdata torchtext\n",
        "!pip install torchdata==0.6.1 torchtext==0.15.2"
      ],
      "metadata": {
        "id": "L_rom2TFRmIK",
        "outputId": "8faa0156-06a4-40cb-8784-7728c5b52c05",
        "colab": {
          "base_uri": "https://localhost:8080/"
        }
      },
      "execution_count": 1,
      "outputs": [
        {
          "output_type": "stream",
          "name": "stdout",
          "text": [
            "\u001b[33mWARNING: Skipping torchdata as it is not installed.\u001b[0m\u001b[33m\n",
            "\u001b[0m\u001b[33mWARNING: Skipping torchtext as it is not installed.\u001b[0m\u001b[33m\n",
            "\u001b[0mCollecting torchdata==0.6.1\n",
            "  Downloading torchdata-0.6.1-cp311-cp311-manylinux_2_17_x86_64.manylinux2014_x86_64.whl.metadata (13 kB)\n",
            "Collecting torchtext==0.15.2\n",
            "  Downloading torchtext-0.15.2-cp311-cp311-manylinux1_x86_64.whl.metadata (7.4 kB)\n",
            "Requirement already satisfied: urllib3>=1.25 in /usr/local/lib/python3.11/dist-packages (from torchdata==0.6.1) (2.3.0)\n",
            "Requirement already satisfied: requests in /usr/local/lib/python3.11/dist-packages (from torchdata==0.6.1) (2.32.3)\n",
            "Collecting torch==2.0.1 (from torchdata==0.6.1)\n",
            "  Downloading torch-2.0.1-cp311-cp311-manylinux1_x86_64.whl.metadata (24 kB)\n",
            "Requirement already satisfied: tqdm in /usr/local/lib/python3.11/dist-packages (from torchtext==0.15.2) (4.67.1)\n",
            "Requirement already satisfied: numpy in /usr/local/lib/python3.11/dist-packages (from torchtext==0.15.2) (1.26.4)\n",
            "Requirement already satisfied: filelock in /usr/local/lib/python3.11/dist-packages (from torch==2.0.1->torchdata==0.6.1) (3.17.0)\n",
            "Requirement already satisfied: typing-extensions in /usr/local/lib/python3.11/dist-packages (from torch==2.0.1->torchdata==0.6.1) (4.12.2)\n",
            "Requirement already satisfied: sympy in /usr/local/lib/python3.11/dist-packages (from torch==2.0.1->torchdata==0.6.1) (1.13.1)\n",
            "Requirement already satisfied: networkx in /usr/local/lib/python3.11/dist-packages (from torch==2.0.1->torchdata==0.6.1) (3.4.2)\n",
            "Requirement already satisfied: jinja2 in /usr/local/lib/python3.11/dist-packages (from torch==2.0.1->torchdata==0.6.1) (3.1.5)\n",
            "Collecting nvidia-cuda-nvrtc-cu11==11.7.99 (from torch==2.0.1->torchdata==0.6.1)\n",
            "  Downloading nvidia_cuda_nvrtc_cu11-11.7.99-2-py3-none-manylinux1_x86_64.whl.metadata (1.5 kB)\n",
            "Collecting nvidia-cuda-runtime-cu11==11.7.99 (from torch==2.0.1->torchdata==0.6.1)\n",
            "  Downloading nvidia_cuda_runtime_cu11-11.7.99-py3-none-manylinux1_x86_64.whl.metadata (1.6 kB)\n",
            "Collecting nvidia-cuda-cupti-cu11==11.7.101 (from torch==2.0.1->torchdata==0.6.1)\n",
            "  Downloading nvidia_cuda_cupti_cu11-11.7.101-py3-none-manylinux1_x86_64.whl.metadata (1.6 kB)\n",
            "Collecting nvidia-cudnn-cu11==8.5.0.96 (from torch==2.0.1->torchdata==0.6.1)\n",
            "  Downloading nvidia_cudnn_cu11-8.5.0.96-2-py3-none-manylinux1_x86_64.whl.metadata (1.6 kB)\n",
            "Collecting nvidia-cublas-cu11==11.10.3.66 (from torch==2.0.1->torchdata==0.6.1)\n",
            "  Downloading nvidia_cublas_cu11-11.10.3.66-py3-none-manylinux1_x86_64.whl.metadata (1.6 kB)\n",
            "Collecting nvidia-cufft-cu11==10.9.0.58 (from torch==2.0.1->torchdata==0.6.1)\n",
            "  Downloading nvidia_cufft_cu11-10.9.0.58-py3-none-manylinux2014_x86_64.whl.metadata (1.5 kB)\n",
            "Collecting nvidia-curand-cu11==10.2.10.91 (from torch==2.0.1->torchdata==0.6.1)\n",
            "  Downloading nvidia_curand_cu11-10.2.10.91-py3-none-manylinux1_x86_64.whl.metadata (1.6 kB)\n",
            "Collecting nvidia-cusolver-cu11==11.4.0.1 (from torch==2.0.1->torchdata==0.6.1)\n",
            "  Downloading nvidia_cusolver_cu11-11.4.0.1-2-py3-none-manylinux1_x86_64.whl.metadata (1.6 kB)\n",
            "Collecting nvidia-cusparse-cu11==11.7.4.91 (from torch==2.0.1->torchdata==0.6.1)\n",
            "  Downloading nvidia_cusparse_cu11-11.7.4.91-py3-none-manylinux1_x86_64.whl.metadata (1.6 kB)\n",
            "Collecting nvidia-nccl-cu11==2.14.3 (from torch==2.0.1->torchdata==0.6.1)\n",
            "  Downloading nvidia_nccl_cu11-2.14.3-py3-none-manylinux1_x86_64.whl.metadata (1.8 kB)\n",
            "Collecting nvidia-nvtx-cu11==11.7.91 (from torch==2.0.1->torchdata==0.6.1)\n",
            "  Downloading nvidia_nvtx_cu11-11.7.91-py3-none-manylinux1_x86_64.whl.metadata (1.7 kB)\n",
            "Collecting triton==2.0.0 (from torch==2.0.1->torchdata==0.6.1)\n",
            "  Downloading triton-2.0.0-1-cp311-cp311-manylinux2014_x86_64.manylinux_2_17_x86_64.whl.metadata (1.0 kB)\n",
            "Requirement already satisfied: setuptools in /usr/local/lib/python3.11/dist-packages (from nvidia-cublas-cu11==11.10.3.66->torch==2.0.1->torchdata==0.6.1) (75.1.0)\n",
            "Requirement already satisfied: wheel in /usr/local/lib/python3.11/dist-packages (from nvidia-cublas-cu11==11.10.3.66->torch==2.0.1->torchdata==0.6.1) (0.45.1)\n",
            "Requirement already satisfied: cmake in /usr/local/lib/python3.11/dist-packages (from triton==2.0.0->torch==2.0.1->torchdata==0.6.1) (3.31.4)\n",
            "Collecting lit (from triton==2.0.0->torch==2.0.1->torchdata==0.6.1)\n",
            "  Downloading lit-18.1.8-py3-none-any.whl.metadata (2.5 kB)\n",
            "Requirement already satisfied: charset-normalizer<4,>=2 in /usr/local/lib/python3.11/dist-packages (from requests->torchdata==0.6.1) (3.4.1)\n",
            "Requirement already satisfied: idna<4,>=2.5 in /usr/local/lib/python3.11/dist-packages (from requests->torchdata==0.6.1) (3.10)\n",
            "Requirement already satisfied: certifi>=2017.4.17 in /usr/local/lib/python3.11/dist-packages (from requests->torchdata==0.6.1) (2025.1.31)\n",
            "Requirement already satisfied: MarkupSafe>=2.0 in /usr/local/lib/python3.11/dist-packages (from jinja2->torch==2.0.1->torchdata==0.6.1) (3.0.2)\n",
            "Requirement already satisfied: mpmath<1.4,>=1.1.0 in /usr/local/lib/python3.11/dist-packages (from sympy->torch==2.0.1->torchdata==0.6.1) (1.3.0)\n",
            "Downloading torchdata-0.6.1-cp311-cp311-manylinux_2_17_x86_64.manylinux2014_x86_64.whl (4.6 MB)\n",
            "\u001b[2K   \u001b[90m━━━━━━━━━━━━━━━━━━━━━━━━━━━━━━━━━━━━━━━━\u001b[0m \u001b[32m4.6/4.6 MB\u001b[0m \u001b[31m45.0 MB/s\u001b[0m eta \u001b[36m0:00:00\u001b[0m\n",
            "\u001b[?25hDownloading torchtext-0.15.2-cp311-cp311-manylinux1_x86_64.whl (2.0 MB)\n",
            "\u001b[2K   \u001b[90m━━━━━━━━━━━━━━━━━━━━━━━━━━━━━━━━━━━━━━━━\u001b[0m \u001b[32m2.0/2.0 MB\u001b[0m \u001b[31m64.6 MB/s\u001b[0m eta \u001b[36m0:00:00\u001b[0m\n",
            "\u001b[?25hDownloading torch-2.0.1-cp311-cp311-manylinux1_x86_64.whl (619.9 MB)\n",
            "\u001b[2K   \u001b[90m━━━━━━━━━━━━━━━━━━━━━━━━━━━━━━━━━━━━━━━━\u001b[0m \u001b[32m619.9/619.9 MB\u001b[0m \u001b[31m2.9 MB/s\u001b[0m eta \u001b[36m0:00:00\u001b[0m\n",
            "\u001b[?25hDownloading nvidia_cublas_cu11-11.10.3.66-py3-none-manylinux1_x86_64.whl (317.1 MB)\n",
            "\u001b[2K   \u001b[90m━━━━━━━━━━━━━━━━━━━━━━━━━━━━━━━━━━━━━━━━\u001b[0m \u001b[32m317.1/317.1 MB\u001b[0m \u001b[31m4.2 MB/s\u001b[0m eta \u001b[36m0:00:00\u001b[0m\n",
            "\u001b[?25hDownloading nvidia_cuda_cupti_cu11-11.7.101-py3-none-manylinux1_x86_64.whl (11.8 MB)\n",
            "\u001b[2K   \u001b[90m━━━━━━━━━━━━━━━━━━━━━━━━━━━━━━━━━━━━━━━━\u001b[0m \u001b[32m11.8/11.8 MB\u001b[0m \u001b[31m51.8 MB/s\u001b[0m eta \u001b[36m0:00:00\u001b[0m\n",
            "\u001b[?25hDownloading nvidia_cuda_nvrtc_cu11-11.7.99-2-py3-none-manylinux1_x86_64.whl (21.0 MB)\n",
            "\u001b[2K   \u001b[90m━━━━━━━━━━━━━━━━━━━━━━━━━━━━━━━━━━━━━━━━\u001b[0m \u001b[32m21.0/21.0 MB\u001b[0m \u001b[31m25.8 MB/s\u001b[0m eta \u001b[36m0:00:00\u001b[0m\n",
            "\u001b[?25hDownloading nvidia_cuda_runtime_cu11-11.7.99-py3-none-manylinux1_x86_64.whl (849 kB)\n",
            "\u001b[2K   \u001b[90m━━━━━━━━━━━━━━━━━━━━━━━━━━━━━━━━━━━━━━━━\u001b[0m \u001b[32m849.3/849.3 kB\u001b[0m \u001b[31m40.3 MB/s\u001b[0m eta \u001b[36m0:00:00\u001b[0m\n",
            "\u001b[?25hDownloading nvidia_cudnn_cu11-8.5.0.96-2-py3-none-manylinux1_x86_64.whl (557.1 MB)\n",
            "\u001b[2K   \u001b[90m━━━━━━━━━━━━━━━━━━━━━━━━━━━━━━━━━━━━━━━━\u001b[0m \u001b[32m557.1/557.1 MB\u001b[0m \u001b[31m2.8 MB/s\u001b[0m eta \u001b[36m0:00:00\u001b[0m\n",
            "\u001b[?25hDownloading nvidia_cufft_cu11-10.9.0.58-py3-none-manylinux2014_x86_64.whl (168.4 MB)\n",
            "\u001b[2K   \u001b[90m━━━━━━━━━━━━━━━━━━━━━━━━━━━━━━━━━━━━━━━━\u001b[0m \u001b[32m168.4/168.4 MB\u001b[0m \u001b[31m5.4 MB/s\u001b[0m eta \u001b[36m0:00:00\u001b[0m\n",
            "\u001b[?25hDownloading nvidia_curand_cu11-10.2.10.91-py3-none-manylinux1_x86_64.whl (54.6 MB)\n",
            "\u001b[2K   \u001b[90m━━━━━━━━━━━━━━━━━━━━━━━━━━━━━━━━━━━━━━━━\u001b[0m \u001b[32m54.6/54.6 MB\u001b[0m \u001b[31m10.0 MB/s\u001b[0m eta \u001b[36m0:00:00\u001b[0m\n",
            "\u001b[?25hDownloading nvidia_cusolver_cu11-11.4.0.1-2-py3-none-manylinux1_x86_64.whl (102.6 MB)\n",
            "\u001b[2K   \u001b[90m━━━━━━━━━━━━━━━━━━━━━━━━━━━━━━━━━━━━━━━━\u001b[0m \u001b[32m102.6/102.6 MB\u001b[0m \u001b[31m8.1 MB/s\u001b[0m eta \u001b[36m0:00:00\u001b[0m\n",
            "\u001b[?25hDownloading nvidia_cusparse_cu11-11.7.4.91-py3-none-manylinux1_x86_64.whl (173.2 MB)\n",
            "\u001b[2K   \u001b[90m━━━━━━━━━━━━━━━━━━━━━━━━━━━━━━━━━━━━━━━━\u001b[0m \u001b[32m173.2/173.2 MB\u001b[0m \u001b[31m7.7 MB/s\u001b[0m eta \u001b[36m0:00:00\u001b[0m\n",
            "\u001b[?25hDownloading nvidia_nccl_cu11-2.14.3-py3-none-manylinux1_x86_64.whl (177.1 MB)\n",
            "\u001b[2K   \u001b[90m━━━━━━━━━━━━━━━━━━━━━━━━━━━━━━━━━━━━━━━━\u001b[0m \u001b[32m177.1/177.1 MB\u001b[0m \u001b[31m6.1 MB/s\u001b[0m eta \u001b[36m0:00:00\u001b[0m\n",
            "\u001b[?25hDownloading nvidia_nvtx_cu11-11.7.91-py3-none-manylinux1_x86_64.whl (98 kB)\n",
            "\u001b[2K   \u001b[90m━━━━━━━━━━━━━━━━━━━━━━━━━━━━━━━━━━━━━━━━\u001b[0m \u001b[32m98.6/98.6 kB\u001b[0m \u001b[31m8.9 MB/s\u001b[0m eta \u001b[36m0:00:00\u001b[0m\n",
            "\u001b[?25hDownloading triton-2.0.0-1-cp311-cp311-manylinux2014_x86_64.manylinux_2_17_x86_64.whl (63.3 MB)\n",
            "\u001b[2K   \u001b[90m━━━━━━━━━━━━━━━━━━━━━━━━━━━━━━━━━━━━━━━━\u001b[0m \u001b[32m63.3/63.3 MB\u001b[0m \u001b[31m11.5 MB/s\u001b[0m eta \u001b[36m0:00:00\u001b[0m\n",
            "\u001b[?25hDownloading lit-18.1.8-py3-none-any.whl (96 kB)\n",
            "\u001b[2K   \u001b[90m━━━━━━━━━━━━━━━━━━━━━━━━━━━━━━━━━━━━━━━━\u001b[0m \u001b[32m96.4/96.4 kB\u001b[0m \u001b[31m8.7 MB/s\u001b[0m eta \u001b[36m0:00:00\u001b[0m\n",
            "\u001b[?25hInstalling collected packages: lit, nvidia-nvtx-cu11, nvidia-nccl-cu11, nvidia-cusparse-cu11, nvidia-curand-cu11, nvidia-cufft-cu11, nvidia-cuda-runtime-cu11, nvidia-cuda-nvrtc-cu11, nvidia-cuda-cupti-cu11, nvidia-cublas-cu11, nvidia-cusolver-cu11, nvidia-cudnn-cu11, triton, torch, torchdata, torchtext\n",
            "  Attempting uninstall: triton\n",
            "    Found existing installation: triton 3.1.0\n",
            "    Uninstalling triton-3.1.0:\n",
            "      Successfully uninstalled triton-3.1.0\n",
            "  Attempting uninstall: torch\n",
            "    Found existing installation: torch 2.5.1+cu124\n",
            "    Uninstalling torch-2.5.1+cu124:\n",
            "      Successfully uninstalled torch-2.5.1+cu124\n",
            "\u001b[31mERROR: pip's dependency resolver does not currently take into account all the packages that are installed. This behaviour is the source of the following dependency conflicts.\n",
            "torchaudio 2.5.1+cu124 requires torch==2.5.1, but you have torch 2.0.1 which is incompatible.\n",
            "torchvision 0.20.1+cu124 requires torch==2.5.1, but you have torch 2.0.1 which is incompatible.\u001b[0m\u001b[31m\n",
            "\u001b[0mSuccessfully installed lit-18.1.8 nvidia-cublas-cu11-11.10.3.66 nvidia-cuda-cupti-cu11-11.7.101 nvidia-cuda-nvrtc-cu11-11.7.99 nvidia-cuda-runtime-cu11-11.7.99 nvidia-cudnn-cu11-8.5.0.96 nvidia-cufft-cu11-10.9.0.58 nvidia-curand-cu11-10.2.10.91 nvidia-cusolver-cu11-11.4.0.1 nvidia-cusparse-cu11-11.7.4.91 nvidia-nccl-cu11-2.14.3 nvidia-nvtx-cu11-11.7.91 torch-2.0.1 torchdata-0.6.1 torchtext-0.15.2 triton-2.0.0\n"
          ]
        }
      ]
    },
    {
      "cell_type": "code",
      "source": [
        "!pip install portalocker==2.7.0"
      ],
      "metadata": {
        "id": "M2ic1X5lWkhq",
        "outputId": "1323a22e-0d4b-489c-d940-338b8de1f29c",
        "colab": {
          "base_uri": "https://localhost:8080/"
        }
      },
      "execution_count": 2,
      "outputs": [
        {
          "output_type": "stream",
          "name": "stdout",
          "text": [
            "Collecting portalocker==2.7.0\n",
            "  Downloading portalocker-2.7.0-py2.py3-none-any.whl.metadata (6.8 kB)\n",
            "Downloading portalocker-2.7.0-py2.py3-none-any.whl (15 kB)\n",
            "Installing collected packages: portalocker\n",
            "Successfully installed portalocker-2.7.0\n"
          ]
        }
      ]
    },
    {
      "cell_type": "code",
      "execution_count": 3,
      "metadata": {
        "id": "-G6eTL-8RKeW"
      },
      "outputs": [],
      "source": [
        "import torch\n",
        "import torch.nn as nn\n",
        "import torch.optim as optim\n",
        "from torch.utils.data import DataLoader, Dataset\n",
        "from torch.nn.utils.rnn import pad_sequence\n",
        "from torchtext.datasets import IMDB\n",
        "from torchtext.data.utils import get_tokenizer\n",
        "from collections import Counter\n",
        "from torchtext.vocab import Vocab\n",
        "import random\n",
        "import portalocker\n",
        "\n",
        "# Set random seeds for reproducibility\n",
        "torch.manual_seed(42)\n",
        "random.seed(42)"
      ]
    },
    {
      "cell_type": "markdown",
      "metadata": {
        "id": "dPH5oP4BRKeY"
      },
      "source": [
        "## Loading and exploring the IMDB dataset\n",
        "\n",
        "But first, some background about text preprocessing.\n",
        "\n",
        "## Introduction to Text Preprocessing\n",
        "\n",
        "In this section, we prepare the raw text data for our RNN model. The IMDB dataset contains movie reviews along with their labels (\"pos\" or \"neg\"). Before feeding the data into our model, we need to perform several key steps:\n",
        "\n",
        "- **Tokenization:**  \n",
        "  Splitting the text into individual words or tokens. We use a basic English tokenizer from torchtext.\n",
        "\n",
        "- **Vocabulary Building:**  \n",
        "  Creating a mapping from words (tokens) to unique integer indices.  \n",
        "  This allows us to convert each review into a sequence of numbers.  \n",
        "  We also add special tokens like `<unk>` (for unknown words) and `<pad>` (for padding shorter sequences).\n",
        "\n",
        "- **Pipeline Creation:**  \n",
        "  Writing functions to transform raw text into numerical token IDs and mapping labels to integers.  \n",
        "  These pipelines standardize the data input before it reaches the model.\n"
      ]
    },
    {
      "cell_type": "code",
      "execution_count": 15,
      "metadata": {
        "id": "gImZ3l5wRKeY",
        "outputId": "8a4dee81-4d8a-4b38-8890-1d5051d3bf08",
        "colab": {
          "base_uri": "https://localhost:8080/"
        }
      },
      "outputs": [
        {
          "output_type": "stream",
          "name": "stdout",
          "text": [
            "Total training examples (subset): 10000\n",
            "Example: (1, 'Reasons to watch the movie:<br /><br />1) Bo Derek at 16 looks good and occasionally gets naked. She does a pretty good job playing an immature, insecure 16 year old beauty, in fact<br /><br />2) Many shots of a pretty Greek island<br /><br />But:<br /><br />1) Peter Hooten turns in the worst performance by an actor since Brutus played Caeser\\'s friend in \"Roman Senate Proceedings of March 15.\" He delivers each and every line in a delightful baritone bellow. Turn down the volume whenever he speaks. Preferably all the way down<br /><br />2) Bo\\'s fantasies are sadly tame, especially by today\\'s standards. A few turns in the bath and as a fully clothed model<br /><br />3) The plot is skimpier than Bo\\'s costumes')\n"
          ]
        }
      ],
      "source": [
        "# Download the IMDB dataset using torchtext.\n",
        "# Each example is a tuple: (label, text)\n",
        "train_iter = list(IMDB(split='train'))\n",
        "test_iter = list(IMDB(split='test'))\n",
        "\n",
        "# For quick demonstration, we will use a small subset of the training data.\n",
        "# You can adjust the subset size if needed.\n",
        "subset_size = 10000\n",
        "train_data = random.sample(train_iter, subset_size)\n",
        "\n",
        "print(f\"Total training examples (subset): {len(train_data)}\")\n",
        "print(\"Example:\", train_data[0])"
      ]
    },
    {
      "cell_type": "markdown",
      "source": [
        "## Tokenization and Building the Vocabulary\n",
        "\n",
        "We begin by defining a tokenizer using torchtext’s `get_tokenizer` with the `basic_english` setting. This simple tokenizer splits the text on whitespace and punctuation, converting everything to lowercase.\n",
        "\n",
        "Next, we build the vocabulary. Rather than manually updating a Counter, we use an iterator approach:\n",
        "\n",
        "- **Yield Tokens:**  \n",
        "  A helper function (`yield_tokens`) goes through each review and yields the tokenized words.  \n",
        "  This is efficient for large datasets.\n",
        "\n",
        "- **Special Tokens:**  \n",
        "  We include `<unk>` for words that are not in our vocabulary and `<pad>` to pad sequences to the same length in a batch.\n",
        "\n",
        "- **Building the Vocab:**  \n",
        "  We use `build_vocab_from_iterator` to create the vocabulary from our tokens.  \n",
        "  We also set a default index using `vocab.set_default_index` so that any word not found in the vocab is mapped to `<unk>`.\n",
        "\n",
        "After the vocabulary is built, we define two pipelines:\n",
        "\n",
        "- **Text Pipeline:**  \n",
        "  Converts each review (a string) into a list of integers representing token IDs.\n",
        "\n",
        "- **Label Pipeline:**  \n",
        "  Maps the label \"pos\" to `1` and \"neg\" to `0`.\n",
        "\n",
        "These transformations allow our model to work with numerical data rather than raw text.\n"
      ],
      "metadata": {
        "id": "PC2UEdbDRxd6"
      }
    },
    {
      "cell_type": "code",
      "source": [
        "from collections import Counter\n",
        "from torchtext.data.utils import get_tokenizer\n",
        "from torchtext.vocab import build_vocab_from_iterator\n",
        "\n",
        "# Define a tokenizer using torchtext's basic_english tokenizer.\n",
        "tokenizer = get_tokenizer('basic_english')\n",
        "\n",
        "# Build an iterator that yields tokens from the training data.\n",
        "def yield_tokens(data_iter):\n",
        "    for label, text in data_iter:\n",
        "        yield tokenizer(text)\n",
        "\n",
        "# Assume train_data is already defined (a list of (label, text) tuples).\n",
        "# Build the vocabulary from the training data iterator.\n",
        "specials = ['<unk>', '<pad>']\n",
        "vocab = build_vocab_from_iterator(yield_tokens(train_data), specials=specials)\n",
        "\n",
        "# Set the default index for unknown tokens.\n",
        "vocab.set_default_index(vocab['<unk>'])\n",
        "\n",
        "print(f\"Vocabulary size: {len(vocab)}\")\n",
        "\n",
        "# Define pipelines to convert text to token IDs and labels to integers.\n",
        "def text_pipeline(text):\n",
        "    return [vocab[token] for token in tokenizer(text)]\n",
        "\n",
        "def label_pipeline(label):\n",
        "    # Map 2 (\"pos\") to 1 and 1 (\"neg\") to 0.\n",
        "    return 1 if label == 2 else 0\n"
      ],
      "metadata": {
        "id": "PoA0nUT9RYEo",
        "outputId": "1c1e1f3c-bd91-4753-e050-7172cdea6cb9",
        "colab": {
          "base_uri": "https://localhost:8080/"
        }
      },
      "execution_count": 22,
      "outputs": [
        {
          "output_type": "stream",
          "name": "stdout",
          "text": [
            "Vocabulary size: 63546\n"
          ]
        }
      ]
    },
    {
      "cell_type": "markdown",
      "source": [
        "## Handling Variable-Length Sequences: Padding\n",
        "\n",
        "Movie reviews naturally have variable lengths. To process these reviews in batches, we need to ensure that all sequences in a batch have the same length.\n",
        "\n",
        "- **Padding:**  \n",
        "  We use `pad_sequence` from PyTorch to pad shorter sequences with a special `<pad>` token.  \n",
        "  This makes it possible to form a uniform tensor of shape `[batch_size, max_seq_length]`.\n",
        "\n",
        "- **Collate Function:**  \n",
        "  Our custom `collate_batch` function:\n",
        "  - Takes a batch of (text, label) pairs.\n",
        "  - Pads the text sequences to the length of the longest review in the batch.\n",
        "  - Returns a padded tensor of token IDs and a tensor of labels.\n",
        "\n",
        "This step is crucial for feeding batches into our RNN, which expects a consistent input size across the batch.\n",
        "\n",
        "## Create a custom dataset and dataloader"
      ],
      "metadata": {
        "id": "aVZrTD_2Xg-V"
      }
    },
    {
      "cell_type": "code",
      "source": [
        "class IMDBDataset(Dataset):\n",
        "    def __init__(self, data):\n",
        "        # Data is a list of tuples (label, text)\n",
        "        self.data = data\n",
        "\n",
        "    def __len__(self):\n",
        "        return len(self.data)\n",
        "\n",
        "    def __getitem__(self, idx):\n",
        "        label, text = self.data[idx]\n",
        "        return torch.tensor(text_pipeline(text)), torch.tensor(label_pipeline(label))\n",
        "\n",
        "# Custom collate function to pad sequences within a batch.\n",
        "def collate_batch(batch):\n",
        "    # Each item in batch is (text_tensor, label_tensor)\n",
        "    text_list, label_list = zip(*batch)\n",
        "    # Pad sequences to the maximum length in the batch.\n",
        "    text_list = pad_sequence(text_list, batch_first=True, padding_value=vocab['<pad>'])\n",
        "    labels = torch.tensor(label_list)\n",
        "    return text_list, labels\n",
        "\n",
        "# Create DataLoader objects.\n",
        "batch_size = 32\n",
        "train_dataset = IMDBDataset(train_data)\n",
        "train_loader = DataLoader(train_dataset, batch_size=batch_size, shuffle=True, collate_fn=collate_batch)\n"
      ],
      "metadata": {
        "id": "Tr5EeUl8Rs5Q"
      },
      "execution_count": 23,
      "outputs": []
    },
    {
      "cell_type": "markdown",
      "source": [
        "## Define the RNN Model (LSTM-based Classifier)\n",
        "### RNNClassifier Architecture for Sentiment Analysis\n",
        "\n",
        "In this section, we define the `RNNClassifier` class. This custom model is designed to classify movie reviews (from the IMDB dataset) as positive or negative. The architecture uses an LSTM (Long Short-Term Memory) layer, which is a popular type of Recurrent Neural Network (RNN) that helps capture sequential dependencies and address issues like the vanishing gradient problem.\n",
        "\n",
        "### Key Components and Their Roles\n",
        "\n",
        "1. **Embedding Layer (`nn.Embedding`):**\n",
        "   - **Purpose:**  \n",
        "     Converts integer-encoded tokens (words) into dense, continuous vector representations.  \n",
        "   - **Details:**  \n",
        "     - The `vocab_size` parameter determines how many unique words the model can embed.  \n",
        "     - The `embed_dim` defines the size of each word vector.  \n",
        "     - The `padding_idx` is set to the index of the `<pad>` token, ensuring that padded elements do not contribute to the learning process.\n",
        "   - **Outcome:**  \n",
        "     The input text tensor (shape: `[batch_size, seq_length]`) becomes an embedded tensor of shape `[batch_size, seq_length, embed_dim]`.\n",
        "\n",
        "2. **LSTM Layer (`nn.LSTM`):**\n",
        "   - **Purpose:**  \n",
        "     Processes the embedded sequence data step-by-step, capturing the context and order within the review.\n",
        "   - **Details:**  \n",
        "     - Receives the embedded sequence as input.  \n",
        "     - The `hidden_dim` parameter controls the size of the hidden state vector.  \n",
        "     - The `num_layers` parameter specifies the depth (number of stacked LSTM layers).  \n",
        "     - `batch_first=True` indicates that the first dimension of the input represents the batch size.\n",
        "   - **Output:**  \n",
        "     - Returns two values:\n",
        "       1. The LSTM outputs at all time steps (not used in our model).\n",
        "       2. A tuple `(hidden, cell)` where:\n",
        "          - `hidden` contains the hidden state from each layer (shape: `[num_layers, batch_size, hidden_dim]`).\n",
        "          - We take `hidden[-1]` (i.e., the hidden state from the last LSTM layer) as a summary of the entire sequence.\n",
        "\n",
        "3. **Fully Connected Layer (`nn.Linear`):**\n",
        "   - **Purpose:**  \n",
        "     Maps the final hidden state from the LSTM to a single output value (a logit) that will be used for binary classification.\n",
        "   - **Details:**  \n",
        "     - It transforms a vector of size `hidden_dim` to `output_dim` (which is 1 for our binary sentiment classification).\n",
        "   - **Outcome:**  \n",
        "     Produces a logit for each example in the batch.\n",
        "\n",
        "4. **Sigmoid Activation (`nn.Sigmoid`):**\n",
        "   - **Purpose:**  \n",
        "     Converts the logit into a probability between 0 and 1.\n",
        "   - **Outcome:**  \n",
        "     After applying the sigmoid, values closer to 1 indicate a positive sentiment and values closer to 0 indicate a negative sentiment.\n",
        "   - **Note:**  \n",
        "     The `.squeeze()` function is applied to remove any extra dimensions, ensuring the output shape is appropriate for subsequent loss computation.\n",
        "\n",
        "### Walkthrough of the `forward` Method\n",
        "\n",
        "- **Input:**  \n",
        "  The `forward` method accepts `text`, a tensor of token IDs with shape `[batch_size, seq_length]`.\n",
        "\n",
        "- **Step 1: Embedding**  \n",
        "  ```python\n",
        "  embedded = self.embedding(text)  \n",
        "\n",
        "Each token is converted into a dense vector. The resulting tensor has shape `[batch_size, seq_length, embed_dim]`.\n",
        "\n",
        "\n",
        "- **Step 2: LSTM Processing**  \n",
        "  ```python  \n",
        "  output, (hidden, cell) = self.lstm(embedded)  \n",
        "\n",
        "The LSTM processes the embedded sequence. We are mainly interested in the final hidden state (`hidden`) which contains the learned representation for the entire sequence.\n",
        "\n",
        "- **Step 3: Extracting the Final Hidden State**\n",
        "```python\n",
        "hidden_last = hidden[-1]\n",
        "\n",
        "We select the hidden state from the last LSTM layer. This tensor has shape `[batch_size, hidden_dim]` and serves as the summary of the input review.\n",
        "\n",
        "- **Step 4: Fully Connected Mapping**\n",
        "```python\n",
        "logits = self.fc(hidden_last)\n",
        "\n",
        "The hidden summary is passed through the linear layer to generate a logit for each example.\n",
        "\n",
        "- **Step 5: Sigmoid Activation**\n",
        "```python\n",
        "return self.sigmoid(logits).squeeze()\n",
        "\n",
        "The logit is converted to a probability score between 0 and 1. The squeeze function ensures that the output has the correct dimensions."
      ],
      "metadata": {
        "id": "wgcUKozRXn2v"
      }
    },
    {
      "cell_type": "code",
      "source": [
        "class RNNClassifier(nn.Module):\n",
        "    def __init__(self, vocab_size, embed_dim, hidden_dim, output_dim, num_layers=1):\n",
        "        super(RNNClassifier, self).__init__()\n",
        "        self.embedding = nn.Embedding(vocab_size, embed_dim, padding_idx=vocab['<pad>'])\n",
        "        self.lstm = nn.LSTM(embed_dim, hidden_dim, num_layers=num_layers, batch_first=True)\n",
        "        self.fc = nn.Linear(hidden_dim, output_dim)\n",
        "        self.sigmoid = nn.Sigmoid()  # For binary classification\n",
        "\n",
        "    def forward(self, text):\n",
        "        # text shape: [batch_size, seq_length]\n",
        "        embedded = self.embedding(text)  # Shape: [batch_size, seq_length, embed_dim]\n",
        "        # LSTM returns (output, (hidden, cell)). We use the hidden state from the last time step.\n",
        "        output, (hidden, cell) = self.lstm(embedded)\n",
        "        # hidden has shape: [num_layers, batch_size, hidden_dim]. Use the last layer.\n",
        "        hidden_last = hidden[-1]  # Shape: [batch_size, hidden_dim]\n",
        "        logits = self.fc(hidden_last)  # Shape: [batch_size, output_dim]\n",
        "        # Apply sigmoid for binary classification\n",
        "        return self.sigmoid(logits).squeeze()\n",
        "\n",
        "# Hyperparameters\n",
        "vocab_size = len(vocab)\n",
        "embed_dim = 100\n",
        "hidden_dim = 128\n",
        "output_dim = 1  # Binary classification\n",
        "\n",
        "model = RNNClassifier(vocab_size, embed_dim, hidden_dim, output_dim)\n",
        "print(model)"
      ],
      "metadata": {
        "id": "NqF7H-YBXmky",
        "outputId": "6b8d7cc5-4954-4ca3-fe43-89bd9c91eb96",
        "colab": {
          "base_uri": "https://localhost:8080/"
        }
      },
      "execution_count": 24,
      "outputs": [
        {
          "output_type": "stream",
          "name": "stdout",
          "text": [
            "RNNClassifier(\n",
            "  (embedding): Embedding(63546, 100, padding_idx=1)\n",
            "  (lstm): LSTM(100, 128, batch_first=True)\n",
            "  (fc): Linear(in_features=128, out_features=1, bias=True)\n",
            "  (sigmoid): Sigmoid()\n",
            ")\n"
          ]
        }
      ]
    },
    {
      "cell_type": "markdown",
      "source": [
        "## Training the RNN model"
      ],
      "metadata": {
        "id": "6Pa7RzlzXxSA"
      }
    },
    {
      "cell_type": "code",
      "source": [
        "# Set training hyperparameters\n",
        "num_epochs = 40  # For demonstration, use a small number of epochs.\n",
        "learning_rate = 0.0001\n",
        "\n",
        "criterion = nn.BCELoss()  # Binary cross-entropy loss for binary classification.\n",
        "optimizer = optim.Adam(model.parameters(), lr=learning_rate)\n",
        "\n",
        "# Move model to appropriate device (CPU for this demo).\n",
        "device = torch.device(\"cuda\" if torch.cuda.is_available() else \"cpu\")\n",
        "model.to(device)\n",
        "criterion.to(device)\n",
        "\n",
        "# Training loop\n",
        "model.train()\n",
        "for epoch in range(num_epochs):\n",
        "    epoch_loss = 0\n",
        "    for texts, labels in train_loader:\n",
        "        texts, labels = texts.to(device), labels.float().to(device)\n",
        "        optimizer.zero_grad()         # Reset gradients.\n",
        "        predictions = model(texts)      # Forward pass.\n",
        "        loss = criterion(predictions, labels)  # Compute prediction error.\n",
        "        loss.backward()               # Backpropagate error.\n",
        "        optimizer.step()              # Update weights.\n",
        "        epoch_loss += loss.item()\n",
        "    print(f\"Epoch {epoch+1}/{num_epochs}, Loss: {epoch_loss/len(train_loader):.4f}\")"
      ],
      "metadata": {
        "id": "wVqVnhCeXzAj",
        "outputId": "098b65ed-9658-4c76-e47f-76832425a24b",
        "colab": {
          "base_uri": "https://localhost:8080/"
        }
      },
      "execution_count": 27,
      "outputs": [
        {
          "output_type": "stream",
          "name": "stdout",
          "text": [
            "Epoch 1/40, Loss: 0.6761\n",
            "Epoch 2/40, Loss: 0.6754\n",
            "Epoch 3/40, Loss: 0.6766\n",
            "Epoch 4/40, Loss: 0.6757\n",
            "Epoch 5/40, Loss: 0.6750\n",
            "Epoch 6/40, Loss: 0.6751\n",
            "Epoch 7/40, Loss: 0.6749\n",
            "Epoch 8/40, Loss: 0.6765\n",
            "Epoch 9/40, Loss: 0.6759\n",
            "Epoch 10/40, Loss: 0.6780\n",
            "Epoch 11/40, Loss: 0.6766\n",
            "Epoch 12/40, Loss: 0.6749\n",
            "Epoch 13/40, Loss: 0.6752\n",
            "Epoch 14/40, Loss: 0.6746\n",
            "Epoch 15/40, Loss: 0.6567\n",
            "Epoch 16/40, Loss: 0.6099\n",
            "Epoch 17/40, Loss: 0.5601\n",
            "Epoch 18/40, Loss: 0.5092\n",
            "Epoch 19/40, Loss: 0.4347\n",
            "Epoch 20/40, Loss: 0.3992\n",
            "Epoch 21/40, Loss: 0.3671\n",
            "Epoch 22/40, Loss: 0.3331\n",
            "Epoch 23/40, Loss: 0.3201\n",
            "Epoch 24/40, Loss: 0.3475\n",
            "Epoch 25/40, Loss: 0.2964\n",
            "Epoch 26/40, Loss: 0.2769\n",
            "Epoch 27/40, Loss: 0.2667\n",
            "Epoch 28/40, Loss: 0.2436\n",
            "Epoch 29/40, Loss: 0.2215\n",
            "Epoch 30/40, Loss: 0.2127\n",
            "Epoch 31/40, Loss: 0.2047\n",
            "Epoch 32/40, Loss: 0.1972\n",
            "Epoch 33/40, Loss: 0.1943\n",
            "Epoch 34/40, Loss: 0.1748\n",
            "Epoch 35/40, Loss: 0.1819\n",
            "Epoch 36/40, Loss: 0.1761\n",
            "Epoch 37/40, Loss: 0.1707\n",
            "Epoch 38/40, Loss: 0.1587\n",
            "Epoch 39/40, Loss: 0.1611\n",
            "Epoch 40/40, Loss: 0.1700\n"
          ]
        }
      ]
    },
    {
      "cell_type": "markdown",
      "source": [
        "## Evaluating the Model"
      ],
      "metadata": {
        "id": "NQ_aWujwX2Nx"
      }
    },
    {
      "cell_type": "code",
      "source": [
        "# Function to predict sentiment on a single review text.\n",
        "def predict_sentiment(model, text):\n",
        "    model.eval()\n",
        "    with torch.no_grad():\n",
        "        # Convert text to tensor and add batch dimension.\n",
        "        text_tensor = torch.tensor(text_pipeline(text)).unsqueeze(0).to(device)\n",
        "        prediction = model(text_tensor)\n",
        "        # Return sentiment label based on threshold 0.5.\n",
        "        sentiment = \"Positive\" if prediction.item() >= 0.5 else \"Negative\"\n",
        "        return sentiment, prediction.item()\n",
        "\n",
        "# Try predicting sentiment on a few sample reviews.\n",
        "sample_reviews = [\n",
        "    \"I absolutely loved this movie. It was amazing and full of surprises!\",\n",
        "    \"The film was boring and too long. I wouldn't recommend it.\",\n",
        "    \"Not the best movie I've seen, but it had its moments.\",\n",
        "    \"This movie was so bad it made me laugh at how terrible it was!\"\n",
        "]\n",
        "\n",
        "for review in sample_reviews:\n",
        "    sentiment, score = predict_sentiment(model, review)\n",
        "    print(f\"Review: {review}\\nPredicted Sentiment: {sentiment} (Score: {score:.4f})\\n\")\n"
      ],
      "metadata": {
        "id": "8xRe1PrkX6V6",
        "outputId": "98f80fef-ec34-4595-ffa6-80116a188734",
        "colab": {
          "base_uri": "https://localhost:8080/"
        }
      },
      "execution_count": 28,
      "outputs": [
        {
          "output_type": "stream",
          "name": "stdout",
          "text": [
            "Review: I absolutely loved this movie. It was amazing and full of surprises!\n",
            "Predicted Sentiment: Positive (Score: 0.9947)\n",
            "\n",
            "Review: The film was boring and too long. I wouldn't recommend it.\n",
            "Predicted Sentiment: Negative (Score: 0.0433)\n",
            "\n",
            "Review: Not the best movie I've seen, but it had its moments.\n",
            "Predicted Sentiment: Positive (Score: 0.9853)\n",
            "\n",
            "Review: This movie was so bad it made me laugh at how terrible it was!\n",
            "Predicted Sentiment: Negative (Score: 0.1263)\n",
            "\n"
          ]
        }
      ]
    },
    {
      "cell_type": "markdown",
      "source": [
        "# Wrap-Up\n",
        "\n",
        "In this notebook, we:\n",
        "- Loaded and preprocessed the IMDB dataset.\n",
        "- Built a vocabulary and converted text to numerical data.\n",
        "- Defined a custom RNN (LSTM-based) for sentiment classification.\n",
        "- Trained the model using a simple training loop.\n",
        "- Made predictions on sample reviews for fun sentiment analysis."
      ],
      "metadata": {
        "id": "xVqNQFwVYMTB"
      }
    }
  ],
  "metadata": {
    "language_info": {
      "name": "python"
    },
    "colab": {
      "provenance": [],
      "gpuType": "T4"
    },
    "kernelspec": {
      "name": "python3",
      "display_name": "Python 3"
    },
    "accelerator": "GPU"
  },
  "nbformat": 4,
  "nbformat_minor": 0
}