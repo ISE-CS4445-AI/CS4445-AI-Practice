{
 "cells": [
  {
   "cell_type": "markdown",
   "metadata": {},
   "source": [
    "# Week 3 Exercise Notebook: Classification & Evaluation Metrics\n",
    "\n",
    "In **Week 3**, we’re exploring **more classification** concepts and **evaluation metrics** beyond simple accuracy. This exercise uses the **Wine** dataset from scikit-learn, a three-class classification problem representing different wine cultivars.\n",
    "\n",
    "We'll:\n",
    "\n",
    "1. **Load** & briefly explore the Wine dataset.\n",
    "2. **Train** a classification model (e.g. `LogisticRegression` or `RandomForest`).\n",
    "3. **Compute** advanced metrics: confusion matrix, precision, recall, F1, macro/micro averaging for multi-class.  \n",
    "4. Discuss and attempt **class imbalance** techniques, though the Wine data is fairly balanced.  \n",
    "5. Summarize the results with a short reflection.\n",
    "\n",
    "**Instructions**: Some cells have partial code or placeholders (`TODO`). Fill them in to complete the tasks.\n",
    "\n",
    "---\n",
    "# Part 1\n",
    "\n",
    "## 1. Imports & Setup\n"
   ]
  },
  {
   "cell_type": "code",
   "execution_count": 20,
   "metadata": {},
   "outputs": [],
   "source": [
    "import numpy as np\n",
    "import pandas as pd\n",
    "import matplotlib.pyplot as plt\n",
    "import seaborn as sns\n",
    "\n",
    "from sklearn.datasets import load_wine\n",
    "from sklearn.model_selection import train_test_split\n",
    "import warnings\n",
    "from sklearn.metrics import (\n",
    "    confusion_matrix, classification_report, accuracy_score, precision_score,\n",
    "    recall_score, f1_score\n",
    ")\n",
    "\n",
    "warnings.simplefilter(action='ignore', category=FutureWarning)\n",
    "random_state = 42"
   ]
  },
  {
   "cell_type": "markdown",
   "metadata": {},
   "source": [
    "## 2. Load the Wine Dataset\n",
    "\n",
    "The Wine dataset has:\n",
    "- **178 samples** (rows)\n",
    "- **13 features** (chemical analyses of wines)\n",
    "- **3 classes** for the target (0, 1, 2) representing different wine cultivars.\n",
    "\n",
    "Let’s load it, convert to a DataFrame for a quick look.\n"
   ]
  },
  {
   "cell_type": "code",
   "execution_count": 10,
   "metadata": {},
   "outputs": [
    {
     "data": {
      "text/html": [
       "<div>\n",
       "<style scoped>\n",
       "    .dataframe tbody tr th:only-of-type {\n",
       "        vertical-align: middle;\n",
       "    }\n",
       "\n",
       "    .dataframe tbody tr th {\n",
       "        vertical-align: top;\n",
       "    }\n",
       "\n",
       "    .dataframe thead th {\n",
       "        text-align: right;\n",
       "    }\n",
       "</style>\n",
       "<table border=\"1\" class=\"dataframe\">\n",
       "  <thead>\n",
       "    <tr style=\"text-align: right;\">\n",
       "      <th></th>\n",
       "      <th>alcohol</th>\n",
       "      <th>malic_acid</th>\n",
       "      <th>ash</th>\n",
       "      <th>alcalinity_of_ash</th>\n",
       "      <th>magnesium</th>\n",
       "      <th>total_phenols</th>\n",
       "      <th>flavanoids</th>\n",
       "      <th>nonflavanoid_phenols</th>\n",
       "      <th>proanthocyanins</th>\n",
       "      <th>color_intensity</th>\n",
       "      <th>hue</th>\n",
       "      <th>od280/od315_of_diluted_wines</th>\n",
       "      <th>proline</th>\n",
       "      <th>target</th>\n",
       "    </tr>\n",
       "  </thead>\n",
       "  <tbody>\n",
       "    <tr>\n",
       "      <th>0</th>\n",
       "      <td>14.23</td>\n",
       "      <td>1.71</td>\n",
       "      <td>2.43</td>\n",
       "      <td>15.6</td>\n",
       "      <td>127.0</td>\n",
       "      <td>2.80</td>\n",
       "      <td>3.06</td>\n",
       "      <td>0.28</td>\n",
       "      <td>2.29</td>\n",
       "      <td>5.64</td>\n",
       "      <td>1.04</td>\n",
       "      <td>3.92</td>\n",
       "      <td>1065.0</td>\n",
       "      <td>0</td>\n",
       "    </tr>\n",
       "    <tr>\n",
       "      <th>1</th>\n",
       "      <td>13.20</td>\n",
       "      <td>1.78</td>\n",
       "      <td>2.14</td>\n",
       "      <td>11.2</td>\n",
       "      <td>100.0</td>\n",
       "      <td>2.65</td>\n",
       "      <td>2.76</td>\n",
       "      <td>0.26</td>\n",
       "      <td>1.28</td>\n",
       "      <td>4.38</td>\n",
       "      <td>1.05</td>\n",
       "      <td>3.40</td>\n",
       "      <td>1050.0</td>\n",
       "      <td>0</td>\n",
       "    </tr>\n",
       "    <tr>\n",
       "      <th>2</th>\n",
       "      <td>13.16</td>\n",
       "      <td>2.36</td>\n",
       "      <td>2.67</td>\n",
       "      <td>18.6</td>\n",
       "      <td>101.0</td>\n",
       "      <td>2.80</td>\n",
       "      <td>3.24</td>\n",
       "      <td>0.30</td>\n",
       "      <td>2.81</td>\n",
       "      <td>5.68</td>\n",
       "      <td>1.03</td>\n",
       "      <td>3.17</td>\n",
       "      <td>1185.0</td>\n",
       "      <td>0</td>\n",
       "    </tr>\n",
       "    <tr>\n",
       "      <th>3</th>\n",
       "      <td>14.37</td>\n",
       "      <td>1.95</td>\n",
       "      <td>2.50</td>\n",
       "      <td>16.8</td>\n",
       "      <td>113.0</td>\n",
       "      <td>3.85</td>\n",
       "      <td>3.49</td>\n",
       "      <td>0.24</td>\n",
       "      <td>2.18</td>\n",
       "      <td>7.80</td>\n",
       "      <td>0.86</td>\n",
       "      <td>3.45</td>\n",
       "      <td>1480.0</td>\n",
       "      <td>0</td>\n",
       "    </tr>\n",
       "    <tr>\n",
       "      <th>4</th>\n",
       "      <td>13.24</td>\n",
       "      <td>2.59</td>\n",
       "      <td>2.87</td>\n",
       "      <td>21.0</td>\n",
       "      <td>118.0</td>\n",
       "      <td>2.80</td>\n",
       "      <td>2.69</td>\n",
       "      <td>0.39</td>\n",
       "      <td>1.82</td>\n",
       "      <td>4.32</td>\n",
       "      <td>1.04</td>\n",
       "      <td>2.93</td>\n",
       "      <td>735.0</td>\n",
       "      <td>0</td>\n",
       "    </tr>\n",
       "  </tbody>\n",
       "</table>\n",
       "</div>"
      ],
      "text/plain": [
       "   alcohol  malic_acid   ash  alcalinity_of_ash  magnesium  total_phenols  \\\n",
       "0    14.23        1.71  2.43               15.6      127.0           2.80   \n",
       "1    13.20        1.78  2.14               11.2      100.0           2.65   \n",
       "2    13.16        2.36  2.67               18.6      101.0           2.80   \n",
       "3    14.37        1.95  2.50               16.8      113.0           3.85   \n",
       "4    13.24        2.59  2.87               21.0      118.0           2.80   \n",
       "\n",
       "   flavanoids  nonflavanoid_phenols  proanthocyanins  color_intensity   hue  \\\n",
       "0        3.06                  0.28             2.29             5.64  1.04   \n",
       "1        2.76                  0.26             1.28             4.38  1.05   \n",
       "2        3.24                  0.30             2.81             5.68  1.03   \n",
       "3        3.49                  0.24             2.18             7.80  0.86   \n",
       "4        2.69                  0.39             1.82             4.32  1.04   \n",
       "\n",
       "   od280/od315_of_diluted_wines  proline  target  \n",
       "0                          3.92   1065.0       0  \n",
       "1                          3.40   1050.0       0  \n",
       "2                          3.17   1185.0       0  \n",
       "3                          3.45   1480.0       0  \n",
       "4                          2.93    735.0       0  "
      ]
     },
     "metadata": {},
     "output_type": "display_data"
    },
    {
     "name": "stdout",
     "output_type": "stream",
     "text": [
      "Unique classes in target: [0 1 2]\n",
      "Target class names: ['class_0' 'class_1' 'class_2']\n",
      "Count of rows for each class: \n",
      "target\n",
      "1    71\n",
      "0    59\n",
      "2    48\n",
      "Name: count, dtype: int64\n"
     ]
    }
   ],
   "source": [
    "def load_wine_data():\n",
    "    data = load_wine()\n",
    "    X = data.data\n",
    "    y = data.target\n",
    "    feature_names = data.feature_names\n",
    "    target_names = data.target_names\n",
    "    \n",
    "    df = pd.DataFrame(X, columns=feature_names)\n",
    "    df['target'] = y\n",
    "    return df, feature_names, target_names\n",
    "\n",
    "# Demo\n",
    "if __name__ == \"__main__\":\n",
    "    df_wine, feat_names, target_names = load_wine_data()\n",
    "    display(df_wine.head())\n",
    "    print(\"Unique classes in target:\", df_wine['target'].unique())\n",
    "    print(\"Target class names:\", target_names)\n",
    "    print(f'Count of rows for each class: \\n{df_wine[\"target\"].value_counts()}')"
   ]
  },
  {
   "cell_type": "markdown",
   "metadata": {},
   "source": [
    "## 3. Train/Test Split & Model Selection\n",
    "\n",
    "We’ll define a function to:\n",
    "\n",
    "1. Load data\n",
    "2. Split into train/test (80/20)\n",
    "3. Train a classification model of your choice (e.g., `LogisticRegression`, `RandomForestClassifier`, or `DecisionTree`)\n",
    "4. Return `(model, X_test, y_test)`\n",
    "\n",
    "### TODO\n",
    "- Choose **one** classifier.\n",
    "- Implement the training steps."
   ]
  },
  {
   "cell_type": "code",
   "execution_count": 4,
   "metadata": {},
   "outputs": [],
   "source": [
    "from sklearn.linear_model import LogisticRegression\n",
    "from sklearn.ensemble import RandomForestClassifier\n",
    "from sklearn.tree import DecisionTreeClassifier\n",
    "\n",
    "def train_wine_model(df, test_size=0.2, random_state=42):\n",
    "\n",
    "    # TODO: Split dataframe into X (features) and y (target)\n",
    "    # X = ... # Get all columns except 'target'\n",
    "    # y = ... # Get 'target' column\n",
    "    \n",
    "    # TODO: do train_test_split\n",
    "    # X_train, X_test, y_train, y_test = ...\n",
    "    \n",
    "    # Choose a model to train:\n",
    "    # model = LogisticRegression(max_iter=500, random_state=random_state)\n",
    "    # model = DecisionTreeClassifier(random_state=random_state)\n",
    "    # model = RandomForestClassifier(random_state=random_state)\n",
    "    \n",
    "    # TODO: fit the model on (X_train, y_train)\n",
    "    \n",
    "    \n",
    "    # return model, X_test, y_test\n",
    "    pass"
   ]
  },
  {
   "cell_type": "code",
   "execution_count": null,
   "metadata": {},
   "outputs": [],
   "source": [
    "# Try out your function\n",
    "df, feature_names, target_names = load_wine_data()\n",
    "# model, X_test, y_test = train_wine_model(df)"
   ]
  },
  {
   "cell_type": "markdown",
   "metadata": {},
   "source": [
    "## 4. Evaluate Accuracy, Confusion Matrix, and Other Metrics\n",
    "\n",
    "We’ll define `evaluate_model(model, X_test, y_test)`:\n",
    "\n",
    "1. **Predict** on `X_test`\n",
    "2. Print or compute:\n",
    "   - Accuracy\n",
    "   - Confusion Matrix (3x3, since it’s multi-class)\n",
    "   - Precision, Recall, F1 for each class (or macro/micro averaged)\n",
    "3. Possibly show a heatmap for the confusion matrix.\n",
    "\n",
    "### TODO\n",
    "- Fill in the placeholders. "
   ]
  },
  {
   "cell_type": "code",
   "execution_count": null,
   "metadata": {},
   "outputs": [],
   "source": [
    "def evaluate_model(model, X_test, y_test):\n",
    "    y_pred = model.predict(X_test)\n",
    "    \n",
    "    # 1. Accuracy\n",
    "    accuracy = np.mean(y_test == y_pred) # another way to compute accuracy than using accuracy_score\n",
    "    \n",
    "    # 2. Confusion Matrix\n",
    "    cm = confusion_matrix(y_test, y_pred)\n",
    "    \n",
    "    # Print or compute classification_report\n",
    "    # Also demonstrate macro/micro averaging of precision, recall, F1\n",
    "    class_report = classification_report(y_test, y_pred)\n",
    "    \n",
    "    print(f\"Accuracy: {accuracy:.3f}\")\n",
    "    print(\"Confusion Matrix:\\n\", cm)\n",
    "    print(\"\\nClassification Report:\\n\", class_report)\n",
    "    \n",
    "    # Optionally do a heatmap\n",
    "    plt.figure(figsize=(5,4))\n",
    "    sns.heatmap(cm, annot=True, cmap='Blues', fmt='d')\n",
    "    plt.title(\"Confusion Matrix\")\n",
    "    plt.xlabel(\"Predicted\")\n",
    "    plt.ylabel(\"Actual\")\n",
    "    plt.show()\n",
    "    \n",
    "    return accuracy, cm, class_report\n"
   ]
  },
  {
   "cell_type": "markdown",
   "metadata": {},
   "source": [
    "## 5. Evaluating the model\n",
    "\n",
    "Now for the metrics:\n",
    "\n",
    "1. **Train** the model with `train_wine_model()`.\n",
    "2. **Evaluate** with `evaluate_model(...)`. \n",
    "\n",
    "Feel free to experiment with different classifiers, or add custom code for hyperparameter tuning."
   ]
  },
  {
   "cell_type": "code",
   "execution_count": null,
   "metadata": {},
   "outputs": [],
   "source": [
    "# accuracy, cm, class_report = evaluate_model(model, X_test, y_test)\n",
    "\n",
    "# print(f\"Weighted Accuracy: {accuracy:.3f}\")\n",
    "# print(\"Confusion Matrix:\\n\", cm)\n",
    "# print(\"\\nClassification Report:\\n\", class_report)"
   ]
  },
  {
   "cell_type": "markdown",
   "metadata": {},
   "source": [
    "---\n",
    "# Part 2:\n",
    "## 6. Creating Class Imbalance\n",
    "\n",
    "The Wine dataset is fairly balanced. Let’s artificially **remove** half of the samples belonging to class 2. This will reduce representation of class 2, simulating a real-world imbalance scenario.\n",
    "\n",
    "### **Task**:\n",
    "1. Implement the function below so that `class2` is partially removed.\n",
    "2. Return the new DataFrame, now imbalanced."
   ]
  },
  {
   "cell_type": "code",
   "execution_count": 6,
   "metadata": {},
   "outputs": [],
   "source": [
    "def make_imbalanced(df):\n",
    "    # Example: keep all class 0, class 1, but remove half of class 2\n",
    "    class2_df = df[df['target'] == 2]\n",
    "    class2_half = class2_df.sample(frac=0.5, random_state=42)\n",
    "    df_imbalanced = df[df['target'] != 2].copy()\n",
    "    df_imbalanced = pd.concat([df_imbalanced, class2_half], axis=0).reset_index(drop=True)\n",
    "    return df_imbalanced"
   ]
  },
  {
   "cell_type": "code",
   "execution_count": 15,
   "metadata": {},
   "outputs": [
    {
     "name": "stdout",
     "output_type": "stream",
     "text": [
      "After make_imbalanced:\n",
      "target\n",
      "1    71\n",
      "0    59\n",
      "2    24\n",
      "Name: count, dtype: int64\n"
     ]
    }
   ],
   "source": [
    "df_wine, feat_names, _ = load_wine_data()\n",
    "df_imbal = make_imbalanced(df_wine)\n",
    "print(\"After make_imbalanced:\")\n",
    "print(df_imbal['target'].value_counts())"
   ]
  },
  {
   "cell_type": "code",
   "execution_count": 16,
   "metadata": {},
   "outputs": [
    {
     "data": {
      "image/png": "[encoded data removed]",
      "text/plain": [
       "<Figure size 800x600 with 1 Axes>"
      ]
     },
     "metadata": {},
     "output_type": "display_data"
    }
   ],
   "source": [
    "# Visualize the class imbalance\n",
    "class_counts = df_imbal['target'].value_counts()\n",
    "\n",
    "plt.figure(figsize=(8, 6))\n",
    "plt.bar(class_counts.index, class_counts.values, color=['blue', 'green', 'red'])\n",
    "plt.xlabel('Class')\n",
    "plt.ylabel('Number of Samples')\n",
    "plt.title('Class Imbalance in df_imbal')\n",
    "plt.xticks(class_counts.index, ['Class 0', 'Class 1', 'Class 2'])\n",
    "plt.show()"
   ]
  },
  {
   "cell_type": "markdown",
   "metadata": {},
   "source": [
    "Now let's test how our previous model will fare with the above imbalanced dataset."
   ]
  },
  {
   "cell_type": "code",
   "execution_count": null,
   "metadata": {},
   "outputs": [],
   "source": [
    "print(\"\\n-- Baseline Model (no weighting) --\")\n",
    "baseline_model, X_test, y_test = train_wine_model(df_imbal)\n",
    "\n",
    "accuracy, cm, class_report = evaluate_model(baseline_model, X_test, y_test)\n",
    "print(f\"Weighted Accuracy: {accuracy:.3f}\")\n",
    "print(\"Confusion Matrix:\\n\", cm)\n",
    "print(\"\\nClassification Report:\\n\", class_report)"
   ]
  },
  {
   "cell_type": "markdown",
   "metadata": {},
   "source": [
    "## 7. Handling Imbalance: Weighted Classifier\n",
    "\n",
    "We can re-train a `LogisticRegression` with `class_weight='balanced'`. Let’s define `train_weighted_model()`. According to the docs for SKLearn's LogisticRegression method, the `class_weight='balanced'` will do the following:\n",
    "\n",
    "> The \"balanced\" mode uses the values of y to automatically adjust weights inversely proportional to class frequencies in the input data as n_samples / (n_classes * np.bincount(y))\n",
    "\n",
    "`np.bincount(y)` gives \n",
    "> number of occurrences of each value in array of non-negative ints.\n",
    "\n",
    "### **Task**:\n",
    "1. Similar steps as baseline, but use `class_weight='balanced'` in the logistic regression constructor.\n",
    "2. Print advanced metrics again.  "
   ]
  },
  {
   "cell_type": "code",
   "execution_count": 18,
   "metadata": {},
   "outputs": [],
   "source": [
    "def train_weighted_model(df, test_size=0.2, random_state=42):\n",
    "    X = df.drop('target', axis=1).values\n",
    "    y = df['target'].values\n",
    "    \n",
    "    X_train, X_test, y_train, y_test = train_test_split(\n",
    "        X, y, test_size=test_size, random_state=random_state\n",
    "    )\n",
    "    \n",
    "    # TODO: logistic regression with class_weight='balanced'\n",
    "    model = LogisticRegression(\n",
    "        max_iter=500, random_state=random_state,\n",
    "        class_weight='balanced'\n",
    "    )\n",
    "    model.fit(X_train, y_train)\n",
    "    \n",
    "    return model, X_test, y_test"
   ]
  },
  {
   "cell_type": "code",
   "execution_count": null,
   "metadata": {},
   "outputs": [],
   "source": [
    "print(\"\\n-- Weighted Model --\")\n",
    "weighted_model, X_test, y_test = train_weighted_model(df_imbal)\n",
    "\n",
    "accuracy, cm, class_report = evaluate_model(weighted_model, X_test, y_test)\n",
    "\n",
    "print(f\"Weighted Accuracy: {accuracy:.3f}\")\n",
    "print(\"Confusion Matrix:\\n\", cm)\n",
    "print(\"\\nClassification Report:\\n\", class_report)"
   ]
  },
  {
   "cell_type": "markdown",
   "metadata": {},
   "source": [
    "## 8. Oversampling Approach\n",
    "\n",
    "Instead of weighting, we can **oversample** the minority class. For a quick demonstration we will implement Naive random oversampling\n",
    "\n",
    "### **Task**:\n",
    "- Implement a function `oversample_minority(df)` that randomly duplicates the minority class (class 2) until we restore balance.  \n",
    "- Then re-train a logistic regression (no weighting) to see if it helps.\n"
   ]
  },
  {
   "cell_type": "code",
   "execution_count": 19,
   "metadata": {},
   "outputs": [],
   "source": [
    "def oversample_minority(df, minority_class=2, random_state=42):\n",
    "    \"\"\"\n",
    "    Basic approach: replicate the minority class to match the largest class size.\n",
    "    \"\"\"\n",
    "    # 1. find the largest class count\n",
    "    class_counts = df['target'].value_counts()\n",
    "    max_count = class_counts.max()\n",
    "    \n",
    "    # 2. separate minority class\n",
    "    minority_df = df[df['target'] == minority_class]\n",
    "    \n",
    "    rng = np.random.default_rng(random_state)\n",
    "    # 3. repeatedly sample minority until we match max_count\n",
    "    needed = max_count - len(minority_df)\n",
    "    if needed <= 0:\n",
    "        # no oversampling needed\n",
    "        return df\n",
    "    \n",
    "    # sample with replacement\n",
    "    minority_sample = minority_df.sample(n=needed, replace=True, random_state=random_state)\n",
    "    oversampled_df = pd.concat([df, minority_sample], axis=0).reset_index(drop=True)\n",
    "    return oversampled_df"
   ]
  },
  {
   "cell_type": "code",
   "execution_count": null,
   "metadata": {},
   "outputs": [],
   "source": [
    "df_os = oversample_minority(df, minority_class=2, random_state=random_state)\n",
    "\n",
    "# Train a model on the oversampled data\n",
    "print(\"\\n-- Oversampled Approach --\")\n",
    "oversampled_model, X_test, y_test = train_wine_model(df_os)\n",
    "\n",
    "accuracy, cm, class_report = evaluate_model(oversampled_model, X_test, y_test)\n",
    "print(f\"Oversampled approach Accuracy: {accuracy:.3f}\")\n",
    "print(\"Confusion Matrix:\\n\", cm)\n",
    "print(\"\\nClassification Report:\\n\", class_report)"
   ]
  },
  {
   "cell_type": "markdown",
   "metadata": {},
   "source": [
    "## 9. Next Steps & Reflection\n",
    "\n",
    "- Check which method best recovers **class 2** performance (compare recall for class 2 in the classification reports).  \n",
    "- Possibly combine weighting + oversampling or try other classifiers (RandomForest, SVC).  \n",
    "\n",
    "**End of Week 3 Exercises** – Enjoy exploring advanced classification metrics and class imbalance solutions!"
   ]
  }
 ],
 "metadata": {
  "kernelspec": {
   "display_name": "Python 3 (ipykernel)",
   "language": "python",
   "name": "python3"
  },
  "language_info": {
   "codemirror_mode": {
    "name": "ipython",
    "version": 3
   },
   "file_extension": ".py",
   "mimetype": "text/x-python",
   "name": "python",
   "nbconvert_exporter": "python",
   "pygments_lexer": "ipython3",
   "version": "3.12.3"
  }
 },
 "nbformat": 4,
 "nbformat_minor": 2
}
